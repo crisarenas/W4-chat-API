{
 "cells": [
  {
   "cell_type": "code",
   "execution_count": 15,
   "metadata": {},
   "outputs": [],
   "source": [
    "import requests,json\n",
    "from pymongo import MongoClient\n",
    "from flask import Flask, render_template, request\n",
    "from bson.objectid import ObjectId\n",
    "from quotes import data"
   ]
  },
  {
   "cell_type": "markdown",
   "metadata": {},
   "source": [
    " "
   ]
  },
  {
   "cell_type": "markdown",
   "metadata": {},
   "source": [
    " "
   ]
  },
  {
   "cell_type": "markdown",
   "metadata": {},
   "source": [
    "# See all users"
   ]
  },
  {
   "cell_type": "markdown",
   "metadata": {},
   "source": [
    "##### If you want to see a list of the current users, run this code!"
   ]
  },
  {
   "cell_type": "code",
   "execution_count": 2,
   "metadata": {},
   "outputs": [
    {
     "name": "stdout",
     "output_type": "stream",
     "text": [
      "['Alicia', 'Bibi', 'Elena', 'Esther', 'Guillermo', 'Marcos', 'Maria', 'Mario']\n"
     ]
    }
   ],
   "source": [
    "res = requests.get(\"http://localhost:5000/users\")\n",
    "a =res.json()\n",
    "print(list(a.values())[0])"
   ]
  },
  {
   "cell_type": "markdown",
   "metadata": {},
   "source": [
    " "
   ]
  },
  {
   "cell_type": "markdown",
   "metadata": {},
   "source": [
    " "
   ]
  },
  {
   "cell_type": "markdown",
   "metadata": {},
   "source": [
    " "
   ]
  },
  {
   "cell_type": "markdown",
   "metadata": {},
   "source": [
    "# Create an user in the database"
   ]
  },
  {
   "cell_type": "markdown",
   "metadata": {},
   "source": [
    "##### This route inserts a new user in db.users."
   ]
  },
  {
   "cell_type": "code",
   "execution_count": 140,
   "metadata": {},
   "outputs": [
    {
     "name": "stdout",
     "output_type": "stream",
     "text": [
      "<Response [200]>\n"
     ]
    },
    {
     "data": {
      "text/plain": [
       "'User created succesfully: user_name:Bibi, user_id: 5fc5737ce850a15feb1c1f1c '"
      ]
     },
     "execution_count": 140,
     "metadata": {},
     "output_type": "execute_result"
    }
   ],
   "source": [
    "username=\"Bibi\"\n",
    "url = f'http://localhost:5000/user/create/{username}'\n",
    "res = requests.get(url)\n",
    "print(res)\n",
    "res.json()"
   ]
  },
  {
   "cell_type": "markdown",
   "metadata": {},
   "source": [
    " "
   ]
  },
  {
   "cell_type": "markdown",
   "metadata": {},
   "source": [
    " "
   ]
  },
  {
   "cell_type": "markdown",
   "metadata": {},
   "source": [
    " "
   ]
  },
  {
   "cell_type": "markdown",
   "metadata": {},
   "source": [
    "# Create several users in the database"
   ]
  },
  {
   "cell_type": "markdown",
   "metadata": {},
   "source": [
    "##### This piece of code will add to db.users all the new_users at the same time."
   ]
  },
  {
   "cell_type": "code",
   "execution_count": 142,
   "metadata": {},
   "outputs": [
    {
     "name": "stdout",
     "output_type": "stream",
     "text": [
      "User created succesfully: user_name:Esther, user_id: 5fc573bde850a15feb1c1f1d \n",
      "User created succesfully: user_name:Mario, user_id: 5fc573bfe850a15feb1c1f1e \n",
      "User created succesfully: user_name:Marcos, user_id: 5fc573c2e850a15feb1c1f1f \n",
      "User created succesfully: user_name:Elena, user_id: 5fc573c4e850a15feb1c1f20 \n",
      "User created succesfully: user_name:Alicia, user_id: 5fc573c6e850a15feb1c1f21 \n",
      "User created succesfully: user_name:Maria, user_id: 5fc573c8e850a15feb1c1f22 \n",
      "User created succesfully: user_name:Guillermo, user_id: 5fc573cae850a15feb1c1f23 \n"
     ]
    }
   ],
   "source": [
    "new_users = [\"Esther\",\"Mario\",\"Marcos\",\"Elena\", \"Alicia\", \"Maria\",\"Guillermo\"]\n",
    "for user in new_users:\n",
    "    res = requests.get(f'http://localhost:5000/user/create/{user}')\n",
    "    print(res.json())"
   ]
  },
  {
   "cell_type": "markdown",
   "metadata": {},
   "source": [
    " "
   ]
  },
  {
   "cell_type": "markdown",
   "metadata": {},
   "source": [
    " "
   ]
  },
  {
   "cell_type": "markdown",
   "metadata": {},
   "source": [
    " "
   ]
  },
  {
   "cell_type": "markdown",
   "metadata": {},
   "source": [
    "# Create a chat room\n",
    "### Define at least one participant and a chat name"
   ]
  },
  {
   "cell_type": "markdown",
   "metadata": {},
   "source": [
    "##### This route will get the ObjectId from the participants. The resulting participants dictionary of the created chat will have the unique username as key, and its ObjestId as a value."
   ]
  },
  {
   "cell_type": "code",
   "execution_count": 148,
   "metadata": {},
   "outputs": [],
   "source": [
    "params={\"participants\":[\"Esther\",\"Mario\"], \"chat_name\": \"Anexo\" }"
   ]
  },
  {
   "cell_type": "code",
   "execution_count": 149,
   "metadata": {},
   "outputs": [
    {
     "name": "stdout",
     "output_type": "stream",
     "text": [
      "<Response [200]>\n"
     ]
    },
    {
     "data": {
      "text/plain": [
       "{'Error': 'Chat already exists.Please, try another super original chat name.'}"
      ]
     },
     "execution_count": 149,
     "metadata": {},
     "output_type": "execute_result"
    }
   ],
   "source": [
    "url = \"http://localhost:5000/chat/create\"\n",
    "res = requests.get(url, params = params)\n",
    "print(res)\n",
    "res.json()"
   ]
  },
  {
   "cell_type": "markdown",
   "metadata": {},
   "source": [
    " "
   ]
  },
  {
   "cell_type": "markdown",
   "metadata": {},
   "source": [
    " "
   ]
  },
  {
   "cell_type": "markdown",
   "metadata": {},
   "source": [
    " "
   ]
  },
  {
   "cell_type": "markdown",
   "metadata": {},
   "source": [
    "# Add new user to a existing chat"
   ]
  },
  {
   "cell_type": "markdown",
   "metadata": {},
   "source": [
    "##### This route will get the ObjectId of the new_participant and the chat_name. Then, it will add the user to the rest of the participants in the chat."
   ]
  },
  {
   "cell_type": "code",
   "execution_count": 150,
   "metadata": {},
   "outputs": [],
   "source": [
    "params={\"new_participant\":\"Elena\", \"chat_name\": \"Anexo\" }"
   ]
  },
  {
   "cell_type": "code",
   "execution_count": 151,
   "metadata": {},
   "outputs": [
    {
     "name": "stdout",
     "output_type": "stream",
     "text": [
      "<Response [200]>\n"
     ]
    },
    {
     "data": {
      "text/plain": [
       "'User added succesfully: 5fc573c4e850a15feb1c1f20'"
      ]
     },
     "execution_count": 151,
     "metadata": {},
     "output_type": "execute_result"
    }
   ],
   "source": [
    "url = \"http://localhost:5000/chat/adduser\"\n",
    "res = requests.get(url, params = params)\n",
    "print(res)\n",
    "res.json()"
   ]
  },
  {
   "cell_type": "markdown",
   "metadata": {},
   "source": [
    " "
   ]
  },
  {
   "cell_type": "markdown",
   "metadata": {},
   "source": [
    " "
   ]
  },
  {
   "cell_type": "markdown",
   "metadata": {},
   "source": [
    " "
   ]
  },
  {
   "cell_type": "markdown",
   "metadata": {},
   "source": [
    "# Add message to chat by user"
   ]
  },
  {
   "cell_type": "code",
   "execution_count": 160,
   "metadata": {},
   "outputs": [],
   "source": [
    "params={\"message\":\"Buenos dias familia\", \"to\": \"Sarandonga\" , \"from\": \"Maria\"}"
   ]
  },
  {
   "cell_type": "code",
   "execution_count": 161,
   "metadata": {},
   "outputs": [
    {
     "name": "stdout",
     "output_type": "stream",
     "text": [
      "<Response [200]>\n"
     ]
    },
    {
     "data": {
      "text/plain": [
       "'Message added: 5fc574b0e850a15feb1c1f2a'"
      ]
     },
     "execution_count": 161,
     "metadata": {},
     "output_type": "execute_result"
    }
   ],
   "source": [
    "url = \"http://localhost:5000/chat/addmessage\"\n",
    "res = requests.get(url, params = params)\n",
    "print(res)\n",
    "res.json()"
   ]
  },
  {
   "cell_type": "markdown",
   "metadata": {},
   "source": [
    " "
   ]
  },
  {
   "cell_type": "markdown",
   "metadata": {},
   "source": [
    " "
   ]
  },
  {
   "cell_type": "markdown",
   "metadata": {},
   "source": [
    " "
   ]
  },
  {
   "cell_type": "markdown",
   "metadata": {},
   "source": [
    " "
   ]
  },
  {
   "cell_type": "markdown",
   "metadata": {},
   "source": [
    "# Get json array with all mesagges from a chat"
   ]
  },
  {
   "cell_type": "code",
   "execution_count": 172,
   "metadata": {},
   "outputs": [],
   "source": [
    "params={\"chat_name\":\"Anexo\"}"
   ]
  },
  {
   "cell_type": "code",
   "execution_count": 175,
   "metadata": {},
   "outputs": [
    {
     "name": "stdout",
     "output_type": "stream",
     "text": [
      "<Response [200]>\n",
      "['Hola ', 'Quedamos hoy?', 'Por mi perfecto, a que hora te viene bien?', 'Yo tambien voy']\n"
     ]
    }
   ],
   "source": [
    "url = \"http://localhost:5000//chat/list\"\n",
    "res = requests.get(url, params = params)\n",
    "print(res)\n",
    "print(res.json())"
   ]
  },
  {
   "cell_type": "markdown",
   "metadata": {},
   "source": [
    " "
   ]
  },
  {
   "cell_type": "markdown",
   "metadata": {},
   "source": [
    " "
   ]
  },
  {
   "cell_type": "markdown",
   "metadata": {},
   "source": [
    " "
   ]
  },
  {
   "cell_type": "markdown",
   "metadata": {},
   "source": [
    " # Analyze sentiments from chat"
   ]
  },
  {
   "cell_type": "code",
   "execution_count": 200,
   "metadata": {},
   "outputs": [],
   "source": [
    "params={\"chat_name\":\"Anexo\"}"
   ]
  },
  {
   "cell_type": "code",
   "execution_count": 201,
   "metadata": {},
   "outputs": [
    {
     "name": "stdout",
     "output_type": "stream",
     "text": [
      "<Response [200]>\n",
      "{'negative': 0.0, 'neutral': 0.93825, 'positive': 0.06175}\n"
     ]
    }
   ],
   "source": [
    "url = \"http://localhost:5000//chat/sentiment\"\n",
    "res = requests.get(url, params = params)\n",
    "print(res)\n",
    "print(res.json())"
   ]
  },
  {
   "cell_type": "markdown",
   "metadata": {},
   "source": [
    " "
   ]
  },
  {
   "cell_type": "markdown",
   "metadata": {},
   "source": [
    " "
   ]
  },
  {
   "cell_type": "markdown",
   "metadata": {},
   "source": [
    " "
   ]
  },
  {
   "cell_type": "markdown",
   "metadata": {},
   "source": [
    "# Using a dataset"
   ]
  },
  {
   "cell_type": "markdown",
   "metadata": {},
   "source": [
    "##### Dataset with quotes by author"
   ]
  },
  {
   "cell_type": "code",
   "execution_count": 16,
   "metadata": {},
   "outputs": [
    {
     "data": {
      "text/plain": [
       "{'Quote': \"Don't cry because it's over, smile because it happened.\",\n",
       " 'Author': 'Dr. Seuss',\n",
       " 'Tags': ['attributed-no-source',\n",
       "  'cry',\n",
       "  'crying',\n",
       "  'experience',\n",
       "  'happiness',\n",
       "  'joy',\n",
       "  'life',\n",
       "  'misattributed-dr-seuss',\n",
       "  'optimism',\n",
       "  'sadness',\n",
       "  'smile',\n",
       "  'smiling '],\n",
       " 'Popularity': 0.15566615566615566,\n",
       " 'Category': 'life'}"
      ]
     },
     "execution_count": 16,
     "metadata": {},
     "output_type": "execute_result"
    }
   ],
   "source": [
    "data[0]"
   ]
  },
  {
   "cell_type": "code",
   "execution_count": 7,
   "metadata": {},
   "outputs": [
    {
     "data": {
      "text/plain": [
       "48391"
      ]
     },
     "execution_count": 7,
     "metadata": {},
     "output_type": "execute_result"
    }
   ],
   "source": [
    "len(data)"
   ]
  },
  {
   "cell_type": "markdown",
   "metadata": {},
   "source": [
    "##### Quotes by category\n",
    "The quotes that contain the tag 'category' will be saved into the database."
   ]
  },
  {
   "cell_type": "code",
   "execution_count": 20,
   "metadata": {},
   "outputs": [],
   "source": [
    "dog_chat = \"Dog\"\n",
    "dog_messages= [data[i][\"Quote\"] for i in range(len(data)) if dog_chat  in data[i][\"Tags\"]]\n",
    "dog_users= [data[i][\"Author\"] for i in range(len(data)) if dog_chat  in data[i][\"Tags\"]]"
   ]
  },
  {
   "cell_type": "code",
   "execution_count": 32,
   "metadata": {},
   "outputs": [
    {
     "data": {
      "text/plain": [
       "['Josh Billings',\n",
       " 'Charles M. Schulz',\n",
       " 'Charles M. Schulz',\n",
       " 'Isabel Allende',\n",
       " \"Kevin O'Leary\",\n",
       " 'Waka Flocka Flame',\n",
       " 'Enid Bagnold',\n",
       " 'Nikki Sixx',\n",
       " 'Francis Beaumont']"
      ]
     },
     "execution_count": 32,
     "metadata": {},
     "output_type": "execute_result"
    }
   ],
   "source": [
    "dog_users"
   ]
  },
  {
   "cell_type": "code",
   "execution_count": 34,
   "metadata": {},
   "outputs": [
    {
     "data": {
      "text/plain": [
       "['Isabel Allende',\n",
       " 'Waka Flocka Flame',\n",
       " 'Francis Beaumont',\n",
       " 'Josh Billings',\n",
       " 'Nikki Sixx',\n",
       " 'Enid Bagnold',\n",
       " 'Charles M. Schulz',\n",
       " \"Kevin O'Leary\"]"
      ]
     },
     "execution_count": 34,
     "metadata": {},
     "output_type": "execute_result"
    }
   ],
   "source": [
    "dog_users = list(set(dog_users))\n",
    "dog_users"
   ]
  },
  {
   "cell_type": "markdown",
   "metadata": {},
   "source": [
    "##### Add author as users"
   ]
  },
  {
   "cell_type": "code",
   "execution_count": 37,
   "metadata": {},
   "outputs": [
    {
     "name": "stdout",
     "output_type": "stream",
     "text": [
      "User created succesfully: user_name:Isabel Allende, user_id: 5fc5968eb7e62fbe9fe083f7 \n",
      "User created succesfully: user_name:Waka Flocka Flame, user_id: 5fc59690b7e62fbe9fe083f8 \n",
      "User created succesfully: user_name:Francis Beaumont, user_id: 5fc59692b7e62fbe9fe083f9 \n",
      "User created succesfully: user_name:Josh Billings, user_id: 5fc59694b7e62fbe9fe083fa \n",
      "User created succesfully: user_name:Nikki Sixx, user_id: 5fc59696b7e62fbe9fe083fb \n",
      "User created succesfully: user_name:Enid Bagnold, user_id: 5fc59698b7e62fbe9fe083fc \n",
      "User created succesfully: user_name:Charles M. Schulz, user_id: 5fc5969ab7e62fbe9fe083fd \n",
      "User created succesfully: user_name:Kevin O'Leary, user_id: 5fc5969cb7e62fbe9fe083fe \n"
     ]
    }
   ],
   "source": [
    "new_users = dog_users\n",
    "for user in new_users:\n",
    "    res = requests.get(f'http://localhost:5000/user/create/{user}')\n",
    "    print(res.json())"
   ]
  },
  {
   "cell_type": "markdown",
   "metadata": {},
   "source": [
    "##### Create dog chat with dog authors"
   ]
  },
  {
   "cell_type": "code",
   "execution_count": 40,
   "metadata": {},
   "outputs": [
    {
     "name": "stdout",
     "output_type": "stream",
     "text": [
      "<Response [200]>\n"
     ]
    },
    {
     "data": {
      "text/plain": [
       "'Chat created succesfully: 5fc596d0b7e62fbe9fe08400'"
      ]
     },
     "execution_count": 40,
     "metadata": {},
     "output_type": "execute_result"
    }
   ],
   "source": [
    "params={\"new_participant\":dog_users, \"chat_name\": dog_chat }\n",
    "url = \"http://localhost:5000/chat/create\"\n",
    "res = requests.get(url, params = params)\n",
    "print(res)\n",
    "res.json()"
   ]
  },
  {
   "cell_type": "markdown",
   "metadata": {},
   "source": [
    "##### Add quotes as messages:"
   ]
  },
  {
   "cell_type": "code",
   "execution_count": 46,
   "metadata": {},
   "outputs": [],
   "source": [
    "for message in list(set(dog_messages)):\n",
    "    params={\"message\":message, \"to\": \"Dog\"}\n",
    "    url = \"http://localhost:5000/chat/addmessage\"\n",
    "    res = requests.get(url, params = params)\n"
   ]
  }
 ],
 "metadata": {
  "kernelspec": {
   "display_name": "Python 3",
   "language": "python",
   "name": "python3"
  },
  "language_info": {
   "codemirror_mode": {
    "name": "ipython",
    "version": 3
   },
   "file_extension": ".py",
   "mimetype": "text/x-python",
   "name": "python",
   "nbconvert_exporter": "python",
   "pygments_lexer": "ipython3",
   "version": "3.8.6"
  }
 },
 "nbformat": 4,
 "nbformat_minor": 4
}
